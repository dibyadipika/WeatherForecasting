{
 "cells": [
  {
   "cell_type": "code",
   "execution_count": 1,
   "id": "0e0c41ac",
   "metadata": {},
   "outputs": [
    {
     "data": {
      "application/vnd.jupyter.widget-view+json": {
       "model_id": "4e4fc61137884f3e9952f705b3580a10",
       "version_major": 2,
       "version_minor": 0
      },
      "text/plain": [
       "Text(value='Bhubaneshwar,IN', description='Location:', placeholder='Type location')"
      ]
     },
     "metadata": {},
     "output_type": "display_data"
    },
    {
     "data": {
      "application/vnd.jupyter.widget-view+json": {
       "model_id": "17e5bdf5591f426db3331576dbee9382",
       "version_major": 2,
       "version_minor": 0
      },
      "text/plain": [
       "Button(description='Get Weather', style=ButtonStyle())"
      ]
     },
     "metadata": {},
     "output_type": "display_data"
    },
    {
     "name": "stdout",
     "output_type": "stream",
     "text": [
      "DateTime: 2024-11-10 09:00:00, Temp: 30.12°C, Pressure: 1010 hPa, Humidity: 54%, Wind Speed: 4.84 m/s, Rainfall: 0 mm\n",
      "DateTime: 2024-11-10 12:00:00, Temp: 28.26°C, Pressure: 1011 hPa, Humidity: 58%, Wind Speed: 3.28 m/s, Rainfall: 0 mm\n",
      "DateTime: 2024-11-10 15:00:00, Temp: 24.75°C, Pressure: 1013 hPa, Humidity: 70%, Wind Speed: 2.64 m/s, Rainfall: 0 mm\n",
      "DateTime: 2024-11-10 18:00:00, Temp: 21.20°C, Pressure: 1013 hPa, Humidity: 81%, Wind Speed: 2.17 m/s, Rainfall: 0 mm\n",
      "DateTime: 2024-11-10 21:00:00, Temp: 20.47°C, Pressure: 1012 hPa, Humidity: 82%, Wind Speed: 2.35 m/s, Rainfall: 0 mm\n"
     ]
    }
   ],
   "source": [
    "import ipywidgets as widgets\n",
    "from IPython.display import display\n",
    "import requests\n",
    "\n",
    "API_KEY = '839173c2f7a3f8ef8763deffa528a8a4'\n",
    "\n",
    "def fetch_weather(location):\n",
    "    url = f'http://api.openweathermap.org/data/2.5/forecast?q={location}&appid={API_KEY}'\n",
    "    response = requests.get(url)\n",
    "    if response.status_code == 200:\n",
    "        data = response.json()\n",
    "        weather_data = []\n",
    "        for entry in data['list']:\n",
    "            weather_data.append({\n",
    "                'datetime': entry['dt_txt'],\n",
    "                'temp': entry['main']['temp'] - 273.15,  # Convert from Kelvin to Celsius\n",
    "                'pressure': entry['main']['pressure'],\n",
    "                'humidity': entry['main']['humidity'],\n",
    "                'wind_speed': entry['wind']['speed'],\n",
    "                'rainfall': entry.get('rain', {}).get('3h', 0)\n",
    "            })\n",
    "        return weather_data\n",
    "    else:\n",
    "        return None\n",
    "\n",
    "def on_button_clicked(b):\n",
    "    loc = location.value\n",
    "    weather_data = fetch_weather(loc)\n",
    "    if weather_data:\n",
    "        for wd in weather_data[:5]:  # Display first 5 entries for brevity\n",
    "            print(f\"DateTime: {wd['datetime']}, Temp: {wd['temp']:.2f}°C, Pressure: {wd['pressure']} hPa, Humidity: {wd['humidity']}%, Wind Speed: {wd['wind_speed']} m/s, Rainfall: {wd['rainfall']} mm\")\n",
    "    else:\n",
    "        print(\"Failed to fetch weather data. Please check the location and try again.\")\n",
    "\n",
    "location = widgets.Text(\n",
    "    value='Bhubaneshwar,IN',\n",
    "    placeholder='Type location',\n",
    "    description='Location:',\n",
    "    disabled=False\n",
    ")\n",
    "\n",
    "button = widgets.Button(description=\"Get Weather\")\n",
    "button.on_click(on_button_clicked)\n",
    "\n",
    "display(location, button)"
   ]
  },
  {
   "cell_type": "code",
   "execution_count": null,
   "id": "03cd458c",
   "metadata": {},
   "outputs": [],
   "source": []
  }
 ],
 "metadata": {
  "kernelspec": {
   "display_name": "Python 3",
   "language": "python",
   "name": "python3"
  },
  "language_info": {
   "codemirror_mode": {
    "name": "ipython",
    "version": 3
   },
   "file_extension": ".py",
   "mimetype": "text/x-python",
   "name": "python",
   "nbconvert_exporter": "python",
   "pygments_lexer": "ipython3",
   "version": "3.11.1"
  }
 },
 "nbformat": 4,
 "nbformat_minor": 5
}
